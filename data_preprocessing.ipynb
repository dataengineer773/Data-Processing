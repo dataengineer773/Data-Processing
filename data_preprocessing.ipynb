{
 "cells": [
  {
   "cell_type": "markdown",
   "metadata": {},
   "source": [
    "## Importing Libraries"
   ]
  },
  {
   "cell_type": "code",
   "execution_count": 1,
   "metadata": {},
   "outputs": [],
   "source": [
    "from pathlib import Path\n",
    "import shutil\n",
    "\n",
    "from lxml import etree\n",
    "from pydantic import BaseModel"
   ]
  },
  {
   "cell_type": "code",
   "execution_count": null,
   "metadata": {},
   "outputs": [],
   "source": []
  },
  {
   "cell_type": "markdown",
   "metadata": {},
   "source": [
    "## Defining Data and Preprocessor Classes"
   ]
  },
  {
   "cell_type": "code",
   "execution_count": 2,
   "metadata": {},
   "outputs": [],
   "source": [
    "class PascalBBoxModel(BaseModel):\n",
    "    x_min: int\n",
    "    x_max: int\n",
    "    y_min: int\n",
    "    y_max: int\n",
    "\n",
    "\n",
    "class PascalObjectModel(BaseModel):\n",
    "    name: str\n",
    "    bbox: PascalBBoxModel\n",
    "\n",
    "\n",
    "class PascalAnnotationModel(BaseModel):\n",
    "    filename: str\n",
    "    image_width: int\n",
    "    image_height: int\n",
    "    objects: list[PascalObjectModel]\n",
    "\n",
    "\n",
    "class YOLOBBoxModel(BaseModel):\n",
    "    x_center: float\n",
    "    y_center: float\n",
    "    width: float\n",
    "    height: float\n",
    "\n",
    "    def __str__(self) -> str:\n",
    "        str_repr = \\\n",
    "            f\"{self.x_center} {self.y_center} {self.width} {self.height}\"\n",
    "        return str_repr\n",
    "\n",
    "\n",
    "class YOLOObjectModel(BaseModel):\n",
    "    index: int\n",
    "    bbox: YOLOBBoxModel\n",
    "\n",
    "    def __str__(self) -> str:\n",
    "        str_repr = f\"{self.index} {str(self.bbox)}\"\n",
    "        return str_repr\n",
    "\n",
    "\n",
    "class YOLOAnnotationModel(BaseModel):\n",
    "    filename: str\n",
    "    image_width: int\n",
    "    image_height: int\n",
    "    objects: list[YOLOObjectModel]"
   ]
  },
  {
   "cell_type": "code",
   "execution_count": 3,
   "metadata": {},
   "outputs": [],
   "source": [
    "class PreProcessor:\n",
    "\n",
    "    class_names: list[str] = []\n",
    "    destination_dir_paths = {\n",
    "        \"train\": Path(\"./yolov7/train/\").resolve(),\n",
    "        \"val\": Path(\"./yolov7/val/\").resolve(),\n",
    "        \"test\": Path(\"./yolov7/test/\").resolve(),\n",
    "    }\n",
    "    subdir_names = {\n",
    "        \"image\": \"images\",\n",
    "        \"annotation\": \"labels\"\n",
    "    }\n",
    "\n",
    "    @classmethod\n",
    "    def preprocess(cls, src_annotations_dir_path: Path,\n",
    "                   src_images_dir_path: Path) -> None:\n",
    "        for dir_path in cls.destination_dir_paths.values():\n",
    "            dir_path.mkdir(parents=True, exist_ok=True)\n",
    "            for subdir_name in cls.subdir_names.values():\n",
    "                subdir_path = dir_path / subdir_name\n",
    "                subdir_path.mkdir(parents=True, exist_ok=True)\n",
    "        position = 0\n",
    "        for src_annotation_file_path in src_annotations_dir_path.iterdir():\n",
    "            if src_annotation_file_path.suffix != \".xml\":\n",
    "                continue\n",
    "            if position < 700:\n",
    "                dest_dir_path = cls.destination_dir_paths[\"train\"]\n",
    "            elif position >= 700 and position < 800:\n",
    "                dest_dir_path = cls.destination_dir_paths[\"val\"]\n",
    "            else:\n",
    "                dest_dir_path = cls.destination_dir_paths[\"test\"]\n",
    "            cls.__preprocess_image_and_annotation(\n",
    "                src_annotation_file_path=src_annotation_file_path,\n",
    "                src_images_dir_path=src_images_dir_path,\n",
    "                dest_dir_path=dest_dir_path)\n",
    "            position += 1\n",
    "            \n",
    "    @classmethod\n",
    "    def __preprocess_image_and_annotation(\n",
    "            cls, src_annotation_file_path: Path, src_images_dir_path: Path,\n",
    "            dest_dir_path: Path) -> None:\n",
    "        pascal_annotation = cls.__parse_pascal_annotation_file(\n",
    "            pascal_annotation_file_path=src_annotation_file_path)\n",
    "        yolo_annotation = cls.__convert_pascal_annotation_to_yolo_annotation(\n",
    "            pascal_annotation=pascal_annotation)\n",
    "        dest_annotation_file_path = \\\n",
    "            dest_dir_path / cls.subdir_names[\"annotation\"] / \\\n",
    "            f\"{src_annotation_file_path.stem}.txt\"\n",
    "        src_image_file_path = src_images_dir_path / yolo_annotation.filename\n",
    "        dest_image_file_path = dest_dir_path / cls.subdir_names[\"image\"] / \\\n",
    "            f\"{yolo_annotation.filename}\"\n",
    "        cls.__write_yolo_annotation_file(\n",
    "            yolo_annotation=yolo_annotation,\n",
    "            yolo_annotation_file_path=dest_annotation_file_path)\n",
    "        cls.__copy_image_file(src_image_file_path=src_image_file_path,\n",
    "                              dest_image_file_path=dest_image_file_path)\n",
    "\n",
    "    @classmethod\n",
    "    def __copy_image_file(cls, src_image_file_path: Path,\n",
    "                          dest_image_file_path: Path) -> None:\n",
    "        shutil.copy2(src=src_image_file_path, dst=dest_image_file_path)\n",
    "\n",
    "    @classmethod\n",
    "    def __write_yolo_annotation_file(\n",
    "            cls, yolo_annotation: YOLOAnnotationModel,\n",
    "            yolo_annotation_file_path: Path) -> None:\n",
    "        results = [None] * len(yolo_annotation.objects)\n",
    "        for index_object, object in enumerate(yolo_annotation.objects):\n",
    "            results[index_object] = str(object)\n",
    "        with yolo_annotation_file_path.open(mode=\"w\") as annotation_file:\n",
    "            annotation_file.write(\"\\n\".join(results))\n",
    "\n",
    "    @classmethod\n",
    "    def __parse_pascal_annotation_file(cls, pascal_annotation_file_path: Path\n",
    "                                       ) -> PascalAnnotationModel:\n",
    "        tree = etree.parse(pascal_annotation_file_path)\n",
    "        filename = tree.find(\".//filename\").text\n",
    "        image_width = int(tree.find(\".//size/width\").text)\n",
    "        image_height = int(tree.find(\".//size/height\").text)\n",
    "        tree_objects = tree.findall(\".//object\")\n",
    "        objects = [None] * len(tree_objects)\n",
    "        for index_object, object in enumerate(tree_objects):\n",
    "            name = object.find(\"name\").text\n",
    "            x_min = int(object.find(\".//bndbox/xmin\").text)\n",
    "            y_min = int(object.find(\".//bndbox/ymin\").text)\n",
    "            x_max = int(object.find(\".//bndbox/xmax\").text)\n",
    "            y_max = int(object.find(\".//bndbox/ymax\").text)\n",
    "            bbox = PascalBBoxModel(x_min=x_min, x_max=x_max,\n",
    "                                          y_min=y_min, y_max=y_max)\n",
    "            objects[index_object] = PascalObjectModel(name=name, bbox=bbox)\n",
    "        pascal_annotation = PascalAnnotationModel(\n",
    "            filename=filename, image_width=image_width,\n",
    "            image_height=image_height, objects=objects)\n",
    "        return pascal_annotation\n",
    "\n",
    "    @classmethod\n",
    "    def __convert_pascal_annotation_to_yolo_annotation(\n",
    "            cls, pascal_annotation: PascalAnnotationModel\n",
    "            ) -> YOLOAnnotationModel:\n",
    "        yolo_objects = [None] * len(pascal_annotation.objects)\n",
    "        for index_object, object in enumerate(pascal_annotation.objects):\n",
    "            yolo_objects[index_object] = \\\n",
    "                cls.__convert_pascal_object_to_yolo_object(\n",
    "                    pascal_object=object,\n",
    "                    image_width=pascal_annotation.image_width,\n",
    "                    image_height=pascal_annotation.image_height)\n",
    "        yolo_annotation = YOLOAnnotationModel(\n",
    "            filename=pascal_annotation.filename,\n",
    "            image_width=pascal_annotation.image_width,\n",
    "            image_height=pascal_annotation.image_height,\n",
    "            objects=yolo_objects)\n",
    "        return yolo_annotation\n",
    "\n",
    "    @classmethod\n",
    "    def __convert_pascal_object_to_yolo_object(\n",
    "            cls, pascal_object: PascalObjectModel, image_width: int,\n",
    "            image_height: int) -> YOLOObjectModel:\n",
    "        class_index = cls.__get_class_index(class_name=pascal_object.name)\n",
    "        yolo_bbox = cls.__convert_pascal_bbox_to_yolo_bbox(\n",
    "            pascal_bbox=pascal_object.bbox,\n",
    "            image_width=image_width,\n",
    "            image_height=image_height)\n",
    "        yolo_object = YOLOObjectModel(index=class_index, bbox=yolo_bbox)\n",
    "        return yolo_object\n",
    "\n",
    "    @classmethod\n",
    "    def __convert_pascal_bbox_to_yolo_bbox(\n",
    "            cls, pascal_bbox: PascalBBoxModel,\n",
    "            image_width: int, image_height: int) -> YOLOBBoxModel:\n",
    "        x_center = ((pascal_bbox.x_max + pascal_bbox.x_min) / 2) / image_width\n",
    "        y_center = ((pascal_bbox.y_max + pascal_bbox.y_min) / 2) / image_height\n",
    "        width = (pascal_bbox.x_max - pascal_bbox.x_min) / image_width\n",
    "        height = (pascal_bbox.y_max - pascal_bbox.y_min) / image_height\n",
    "        yolo_bbox = YOLOBBoxModel(x_center=x_center, y_center=y_center,\n",
    "                                  width=width, height=height)\n",
    "        return yolo_bbox\n",
    "\n",
    "    @classmethod\n",
    "    def __get_class_index(cls, class_name: str) -> int:\n",
    "        if class_name not in cls.class_names:\n",
    "            cls.class_names.append(class_name)\n",
    "        class_index = cls.class_names.index(class_name)\n",
    "        return class_index        \n"
   ]
  },
  {
   "cell_type": "code",
   "execution_count": null,
   "metadata": {},
   "outputs": [],
   "source": []
  },
  {
   "cell_type": "markdown",
   "metadata": {},
   "source": [
    "## Setting Global Parameters"
   ]
  },
  {
   "cell_type": "code",
   "execution_count": 4,
   "metadata": {},
   "outputs": [],
   "source": [
    "src_annotations_dir_path = Path(\"./raw_data/annotations/\").resolve()\n",
    "src_images_dir_path = Path(\"./raw_data/images/\").resolve()"
   ]
  },
  {
   "cell_type": "code",
   "execution_count": 5,
   "metadata": {},
   "outputs": [],
   "source": [
    "PreProcessor.preprocess(src_annotations_dir_path=src_annotations_dir_path,\n",
    "                        src_images_dir_path=src_images_dir_path)"
   ]
  },
  {
   "cell_type": "code",
   "execution_count": 6,
   "metadata": {},
   "outputs": [
    {
     "data": {
      "text/plain": [
       "['with_mask', 'without_mask', 'mask_weared_incorrect']"
      ]
     },
     "execution_count": 6,
     "metadata": {},
     "output_type": "execute_result"
    }
   ],
   "source": [
    "PreProcessor.class_names"
   ]
  },
  {
   "cell_type": "code",
   "execution_count": null,
   "metadata": {},
   "outputs": [],
   "source": []
  },
  {
   "cell_type": "code",
   "execution_count": null,
   "metadata": {},
   "outputs": [],
   "source": []
  },
  {
   "cell_type": "code",
   "execution_count": null,
   "metadata": {},
   "outputs": [],
   "source": []
  },
  {
   "cell_type": "code",
   "execution_count": null,
   "metadata": {},
   "outputs": [],
   "source": []
  }
 ],
 "metadata": {
  "kernelspec": {
   "display_name": "Python 3 (ipykernel)",
   "language": "python",
   "name": "python3"
  },
  "language_info": {
   "codemirror_mode": {
    "name": "ipython",
    "version": 3
   },
   "file_extension": ".py",
   "mimetype": "text/x-python",
   "name": "python",
   "nbconvert_exporter": "python",
   "pygments_lexer": "ipython3",
   "version": "3.12.2"
  }
 },
 "nbformat": 4,
 "nbformat_minor": 4
}
